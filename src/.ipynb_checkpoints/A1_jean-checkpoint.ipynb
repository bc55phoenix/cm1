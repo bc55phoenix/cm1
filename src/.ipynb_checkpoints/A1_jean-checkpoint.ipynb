{
 "cells": [
  {
   "cell_type": "code",
   "execution_count": 2,
   "metadata": {
    "collapsed": false
   },
   "outputs": [],
   "source": [
    "%load_ext autoreload\n",
    "import facebook\n",
    "import requests\n",
    "import json\n",
    "from collections import defaultdict\n",
    "import csv\n",
    "import urllib\n",
    "import urllib2\n",
    "import json\n",
    "import webbrowser\n",
    "import requests"
   ]
  },
  {
   "cell_type": "markdown",
   "metadata": {},
   "source": [
    "# Flickr API"
   ]
  },
  {
   "cell_type": "code",
   "execution_count": 3,
   "metadata": {
    "collapsed": true
   },
   "outputs": [],
   "source": [
    "def pretty(obj):\n",
    "    return json.dumps(obj, sort_keys=True, indent=2)\n",
    "\n",
    "def safeGet(url):\n",
    "    try:\n",
    "        return urllib2.urlopen(url)\n",
    "    except urllib2.URLError, e:\n",
    "        if hasattr(e, 'reason'):\n",
    "            print 'We failed to reach a server.'\n",
    "            print 'Reason: ', e.reason\n",
    "        elif hasattr(e, 'code'):\n",
    "            print 'The server couldn\\'t fulfill the request.'\n",
    "            print 'Error code: ', e.code\n",
    "    return None\n",
    "\n",
    "# apply for a flickr authentication key at http://www.flickr.com/services/apps/create/apply/?\n",
    "# paste the key (not the secret) as the value of the variable flickr_key\n",
    "flickr_key = 'KEY'\n",
    "\n",
    "def flickrREST(baseurl = 'https://api.flickr.com/services/rest/',\n",
    "    method = 'flickr.photos.search',\n",
    "    api_key = flickr_key,\n",
    "    format = 'json',\n",
    "    params={},\n",
    "    printurl = False\n",
    "    ):\n",
    "    params['method'] = method\n",
    "    params['api_key'] = api_key\n",
    "    params['format'] = format\n",
    "    url = baseurl + \"?\" + urllib.urlencode(params)\n",
    "    if printurl:\n",
    "        print url\n",
    "        return None\n",
    "    else:\n",
    "        return safeGet(url)\n",
    "\n"
   ]
  },
  {
   "cell_type": "code",
   "execution_count": 52,
   "metadata": {
    "collapsed": false
   },
   "outputs": [],
   "source": [
    "# def flickrSearch(tag, count):\n",
    "#     result = flickrREST(params = {'tags':tag, 'per_page':count})\n",
    "#     txt = result.read()\n",
    "#     jsresult = txt[14:-1]\n",
    "#     d = json.loads(jsresult)\n",
    "#     photos = d['photos']['photo']\n",
    "\n",
    "#     urls = []\n",
    "#     for photo in photos:\n",
    "#         owner = photo['owner']\n",
    "#         pid = photo['id']\n",
    "#         url = 'https://www.flickr.com/photos/%s/%s' % (owner, pid)\n",
    "# #         webbrowser.open(url)\n",
    "#         urls.append(url)\n",
    "#     return urls\n",
    "\n",
    "from flickrapi import FlickrAPI\n",
    "\n",
    "\n",
    "def getImages(imName):\n",
    "\n",
    "    FLICKR_PUBLIC = 'PUBLIC'\n",
    "    FLICKR_SECRET = 'SECRET'\n",
    "\n",
    "    flickr = FlickrAPI(FLICKR_PUBLIC, FLICKR_SECRET, format='parsed-json')\n",
    "    extras='url_sq,url_t,url_s,url_q,url_m,url_n,url_z,url_c,url_l,url_o'\n",
    "    photos = flickr.photos.search(text=imName, per_page=5, extras=extras)['photos']['photo']\n",
    "    urls = map(lambda x: x['url_q'] if 'url_q' in x else None, photos)\n",
    "    urls = [url for url in urls if url]\n",
    "    return urls[0: min(len(urls), 5) ]\n"
   ]
  },
  {
   "cell_type": "code",
   "execution_count": 49,
   "metadata": {
    "collapsed": false
   },
   "outputs": [
    {
     "name": "stdout",
     "output_type": "stream",
     "text": [
      "[u'https://farm2.staticflickr.com/1452/25741316501_dee9bb16f6_s.jpg', u'https://farm2.staticflickr.com/1562/25209832203_a95d4c0e2f_s.jpg', u'https://farm2.staticflickr.com/1655/25836420265_1f58eba1fb_s.jpg', u'https://farm2.staticflickr.com/1595/25535722330_e134243d13_s.jpg', u'https://farm2.staticflickr.com/1602/25741305671_1697811840_s.jpg']\n"
     ]
    }
   ],
   "source": [
    "urls = getImages('New York')\n",
    "print urls"
   ]
  },
  {
   "cell_type": "markdown",
   "metadata": {},
   "source": [
    "# Facebook API"
   ]
  },
  {
   "cell_type": "code",
   "execution_count": 6,
   "metadata": {
    "collapsed": false
   },
   "outputs": [],
   "source": [
    "def getFriendId(graph):\n",
    "    \n",
    "    rawData = graph.get_object(\"me/friends\")\n",
    "    friendList = rawData['data']\n",
    "    return friendList\n",
    "\n",
    "\n",
    "def getFriendLocation(graph):\n",
    "    \n",
    "    friendList = getFriendId(graph)\n",
    "    locationFriendList = defaultdict(list)\n",
    "    locations = {}\n",
    "    friendCount = 0\n",
    "    \n",
    "    while True:\n",
    "        if friendCount < min(len(friendList), 300):\n",
    "#         if len(locations) < 10 or friendCount < min(len(friendList), 300):\n",
    "            try:\n",
    "                friendId = friendList[friendCount]['id']\n",
    "                friendName = friendList[friendCount]['name']\n",
    "                locationId = graph.get_object(friendId + '?')['location']['id']\n",
    "                locationName = graph.get_object(friendId + '?')['location']['name']\n",
    "                locationName = locationName.split(',')[0]\n",
    "                locationFriendList[locationName].append((friendName, friendId))\n",
    "                if not locationName in locations:\n",
    "                    locations[locationName] = locationId\n",
    "                    \n",
    "                friendCount += 1\n",
    "\n",
    "            except KeyError:\n",
    "                friendCount += 1\n",
    "                pass\n",
    "        else:\n",
    "            break\n",
    "    \n",
    "    return locationFriendList, locations\n"
   ]
  },
  {
   "cell_type": "code",
   "execution_count": 7,
   "metadata": {
    "collapsed": false
   },
   "outputs": [],
   "source": [
    "def saveFriendLocation(name, locationFriendList):\n",
    "    \n",
    "    with open(name + '.csv', 'wb') as csvfile:\n",
    "        writer = csv.writer(csvfile)\n",
    "        \n",
    "        locationFriendList = sorted(locationFriendList.iteritems(),key=lambda (k,v): len(v),reverse=True)\n",
    "        \n",
    "        for pair in locationFriendList[:min(10, len(locationFriendList))]:\n",
    "            location = pair[0]\n",
    "            friendList = pair[1]\n",
    "            friend = map(lambda x: x[0], friendList)\n",
    "            friend = u' | '.join(friend).encode('utf-8')\n",
    "            count = 10\n",
    "            urls = getImages(location)\n",
    "            writer.writerow([location, friend, len(friendList)] + urls)"
   ]
  },
  {
   "cell_type": "code",
   "execution_count": 62,
   "metadata": {
    "collapsed": false
   },
   "outputs": [],
   "source": [
    "name = 'NAME'\n",
    "access_token = 'TOKEN'\n",
    "\n",
    "graph = facebook.GraphAPI(access_token)\n",
    "\n",
    "locationFriendList, locations = getFriendLocation(graph)\n",
    "saveFriendLocation(name, locationFriendList)\n"
   ]
  },
  {
   "cell_type": "markdown",
   "metadata": {},
   "source": [
    "# Get Flickr Image Urls"
   ]
  },
  {
   "cell_type": "code",
   "execution_count": 57,
   "metadata": {
    "collapsed": true
   },
   "outputs": [],
   "source": [
    "def fileGetImgUrls(fileName):\n",
    "    \n",
    "    with open(fileName[:-4] + '_imgs.csv', 'wb') as csvfile:\n",
    "        writer = csv.writer(csvfile)\n",
    "        \n",
    "        with open(fileName, 'rb') as csvfile:\n",
    "            reader = csv.reader(csvfile)\n",
    "            for row in reader:\n",
    "                location = row[0]\n",
    "                urls = getImages(location)\n",
    "                writer.writerow([location] + urls)"
   ]
  },
  {
   "cell_type": "code",
   "execution_count": 60,
   "metadata": {
    "collapsed": false
   },
   "outputs": [],
   "source": [
    "# urls = getImages('New York')\n",
    "fileGetImgUrls('Data5.csv')"
   ]
  },
  {
   "cell_type": "code",
   "execution_count": 5,
   "metadata": {
    "collapsed": false
   },
   "outputs": [],
   "source": [
    "# saveFriendLocation(name, locationFriendList)"
   ]
  },
  {
   "cell_type": "markdown",
   "metadata": {},
   "source": [
    "# User Time Location"
   ]
  },
  {
   "cell_type": "code",
   "execution_count": 4,
   "metadata": {
    "collapsed": true
   },
   "outputs": [],
   "source": [
    "def saveUserTimeLocation(graph, name):\n",
    "    \n",
    "    print(name)\n",
    "    places_object = graph.get_object(\"me/tagged_places\")\n",
    "    place_data = places_object['data']\n",
    "    location_object = graph.get_object(\"me/locations\")\n",
    "\n",
    "    output_data = {}\n",
    "    output_data['name'] = name\n",
    "    time_location_pairs = []\n",
    "\n",
    "    for data in place_data:\n",
    "        time_location = {}\n",
    "        time_location['time'] = data['created_time']\n",
    "        place = data['place']\n",
    "        if 'location' in place and 'latitude' in place['location']:\n",
    "            latitude, longitude = place['location']['latitude'], place['location']['longitude']\n",
    "            time_location['location'] = {'latitude': latitude, 'longitude': longitude}\n",
    "            time_location_pairs.append(time_location)\n",
    "\n",
    "    output_data['data'] = time_location_pairs\n",
    "\n",
    "    # with open(name + ' data.txt', 'w') as outfile:\n",
    "    #     json.dump(output_data, outfile)"
   ]
  },
  {
   "cell_type": "markdown",
   "metadata": {
    "collapsed": true
   },
   "source": []
  },
  {
   "cell_type": "markdown",
   "metadata": {
    "collapsed": true
   },
   "source": []
  },
  {
   "cell_type": "code",
   "execution_count": null,
   "metadata": {
    "collapsed": true
   },
   "outputs": [],
   "source": []
  }
 ],
 "metadata": {
  "kernelspec": {
   "display_name": "Python 3",
   "language": "python",
   "name": "python3"
  },
  "language_info": {
   "codemirror_mode": {
    "name": "ipython",
    "version": 3
   },
   "file_extension": ".py",
   "mimetype": "text/x-python",
   "name": "python",
   "nbconvert_exporter": "python",
   "pygments_lexer": "ipython3",
   "version": "3.5.1"
  }
 },
 "nbformat": 4,
 "nbformat_minor": 0
}
